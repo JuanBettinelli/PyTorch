{
 "cells": [
  {
   "cell_type": "markdown",
   "id": "d3d001b0-2e2f-4b58-8442-99520bad831f",
   "metadata": {},
   "source": [
    "# Sowing Success: How Machine Learning Helps Farmers Select the Best Crops\n",
    "\n",
    "![Farmer in a field](farmer_in_a_field.jpg)\n",
    "\n",
    "Measuring essential soil metrics such as nitrogen, phosphorous, potassium levels, and pH value is an important aspect of assessing soil condition. However, it can be an expensive and time-consuming process, which can cause farmers to prioritize which metrics to measure based on their budget constraints.\n",
    "\n",
    "Farmers have various options when it comes to deciding which crop to plant each season. Their primary objective is to maximize the yield of their crops, taking into account different factors. One crucial factor that affects crop growth is the condition of the soil in the field, which can be assessed by measuring basic elements such as nitrogen and potassium levels. Each crop has an ideal soil condition that ensures optimal growth and maximum yield.\n",
    "\n",
    "A farmer reached out to you as a machine learning expert for assistance in selecting the best crop for his field. They've provided you with a dataset called `soil_measures.csv`, which contains:\n",
    "\n",
    "- `\"N\"`: Nitrogen content ratio in the soil\n",
    "- `\"P\"`: Phosphorous content ratio in the soil\n",
    "- `\"K\"`: Potassium content ratio in the soil\n",
    "- `\"pH\"` value of the soil\n",
    "- `\"crop\"`: categorical values that contain various crops (target variable).\n",
    "\n",
    "Each row in this dataset represents various measures of the soil in a particular field. Based on these measurements, the crop specified in the `\"crop\"` column is the optimal choice for that field.  \n",
    "\n",
    "In this project, you will build multi-class classification models to predict the type of `\"crop\"` and identify the single most importance feature for predictive performance."
   ]
  },
  {
   "cell_type": "markdown",
   "id": "b94c298a",
   "metadata": {},
   "source": [
    "Project Description\n",
    "A farmer reached out to you as a machine learning expert seeking help to select the best crop for his field. Due to budget constraints, the farmer explained that he could only afford to measure one out of the four essential soil measures:\n",
    "\n",
    "Nitrogen content ratio in the soil\n",
    "Phosphorous content ratio in the soil\n",
    "Potassium content ratio in the soil\n",
    "pH value of the soil\n",
    "The expert realized that this is a classic feature selection problem, where the objective is to pick the most important feature that could help predict the crop accurately. Can you help him?"
   ]
  },
  {
   "cell_type": "code",
   "execution_count": 32,
   "id": "d0eb4f16-5a99-460d-a5ba-706b7ef0bbe7",
   "metadata": {
    "executionCancelledAt": null,
    "executionTime": 48,
    "id": "bA5ajAmk7XH6",
    "lastExecutedAt": 1757927475690,
    "lastExecutedByKernel": "b89e63d4-d78f-492c-bb7c-79b512df6680",
    "lastScheduledRunId": null,
    "lastSuccessfullyExecutedCode": "# All required libraries are imported here for you.\nimport pandas as pd\nfrom sklearn.linear_model import LogisticRegression\nfrom sklearn.model_selection import train_test_split\nfrom sklearn import metrics\n\n# Load the dataset\ncrops = pd.read_csv(\"soil_measures.csv\")  # Read in the \"soil_measures.csv\" file as pandas DataFrame.\n\n# Write your code here"
   },
   "outputs": [],
   "source": [
    "# All required libraries are imported here for you.\n",
    "import pandas as pd\n",
    "from sklearn.linear_model import LogisticRegression\n",
    "from sklearn.model_selection import train_test_split\n",
    "from sklearn import metrics\n",
    "\n",
    "# Load the dataset\n",
    "crops = pd.read_csv(\"soil_measures.csv\")  # Read in the \"soil_measures.csv\" file as pandas DataFrame.\n",
    "\n",
    "# Write your code here"
   ]
  },
  {
   "cell_type": "code",
   "execution_count": 33,
   "id": "6ff0694a-1d7c-4c27-90ce-21e17db13589",
   "metadata": {
    "executionCancelledAt": null,
    "executionTime": 53,
    "lastExecutedAt": 1757927475743,
    "lastExecutedByKernel": "b89e63d4-d78f-492c-bb7c-79b512df6680",
    "lastScheduledRunId": null,
    "lastSuccessfullyExecutedCode": "# 1. Read the data into a pandas DataFrame and perform exploratory data analysis\n\ncrops.isna().sum() # Check for missing values",
    "outputsMetadata": {
     "0": {
      "height": 550,
      "tableState": {
       "customFilter": {
        "const": {
         "type": "boolean",
         "valid": true,
         "value": true
        },
        "id": "08f65a7b-e67f-4932-a986-094e3bbfde6e",
        "nodeType": "const"
       }
      },
      "type": "dataFrame"
     }
    }
   },
   "outputs": [
    {
     "data": {
      "application/com.datacamp.data-table.v2+json": {
       "table": {
        "data": {
         "0": [
          0,
          0,
          0,
          0,
          0
         ],
         "index": [
          "N",
          "P",
          "K",
          "ph",
          "crop"
         ]
        },
        "schema": {
         "fields": [
          {
           "name": "index",
           "type": "string"
          },
          {
           "name": "0",
           "type": "integer"
          }
         ],
         "pandas_version": "1.4.0",
         "primaryKey": [
          "index"
         ]
        }
       },
       "total_rows": 5,
       "truncation_type": null
      },
      "text/plain": [
       "N       0\n",
       "P       0\n",
       "K       0\n",
       "ph      0\n",
       "crop    0\n",
       "dtype: int64"
      ]
     },
     "execution_count": 33,
     "metadata": {
      "application/com.datacamp.data-table.v2+json": {
       "status": "success"
      }
     },
     "output_type": "execute_result"
    }
   ],
   "source": [
    "# 1. Read the data into a pandas DataFrame and perform exploratory data analysis\n",
    "\n",
    "crops.isna().sum() # Check for missing values"
   ]
  },
  {
   "cell_type": "code",
   "execution_count": 34,
   "id": "d12cd3f7-206c-432c-99f2-26984e2c2609",
   "metadata": {
    "executionCancelledAt": null,
    "executionTime": 55,
    "lastExecutedAt": 1757927475799,
    "lastExecutedByKernel": "b89e63d4-d78f-492c-bb7c-79b512df6680",
    "lastScheduledRunId": null,
    "lastSuccessfullyExecutedCode": "crops[\"crop\"].unique() # Check for crop types\n"
   },
   "outputs": [
    {
     "data": {
      "text/plain": [
       "array(['rice', 'maize', 'chickpea', 'kidneybeans', 'pigeonpeas',\n",
       "       'mothbeans', 'mungbean', 'blackgram', 'lentil', 'pomegranate',\n",
       "       'banana', 'mango', 'grapes', 'watermelon', 'muskmelon', 'apple',\n",
       "       'orange', 'papaya', 'coconut', 'cotton', 'jute', 'coffee'],\n",
       "      dtype=object)"
      ]
     },
     "execution_count": 34,
     "metadata": {},
     "output_type": "execute_result"
    }
   ],
   "source": [
    "crops[\"crop\"].unique() # Check for crop types\n"
   ]
  },
  {
   "cell_type": "code",
   "execution_count": 35,
   "id": "69d4b49b-167d-4706-a7e4-fd7fa1600769",
   "metadata": {
    "executionCancelledAt": null,
    "executionTime": 50,
    "lastExecutedAt": 1757927475850,
    "lastExecutedByKernel": "b89e63d4-d78f-492c-bb7c-79b512df6680",
    "lastScheduledRunId": null,
    "lastSuccessfullyExecutedCode": "# 2. Split the data\nX = crops.drop(columns=[\"crop\"]) # split in Features and target variables\ny = crops[\"crop\"]"
   },
   "outputs": [],
   "source": [
    "# 2. Split the data\n",
    "X = crops.drop(columns=[\"crop\"]) # split in Features and target variables\n",
    "y = crops[\"crop\"]"
   ]
  },
  {
   "cell_type": "code",
   "execution_count": 36,
   "id": "5d754ece-92ab-46bf-8fdb-9f2d214902f3",
   "metadata": {
    "executionCancelledAt": null,
    "executionTime": 51,
    "lastExecutedAt": 1757927475902,
    "lastExecutedByKernel": "b89e63d4-d78f-492c-bb7c-79b512df6680",
    "lastScheduledRunId": null,
    "lastSuccessfullyExecutedCode": "X_train, X_test, y_train, y_test = train_test_split(X, y, test_size=0.2, random_state=42) # Use train_test_split() to split in train and test data"
   },
   "outputs": [],
   "source": [
    "X_train, X_test, y_train, y_test = train_test_split(X, y, test_size=0.2, random_state=42) # Use train_test_split() to split in train and test data"
   ]
  },
  {
   "cell_type": "code",
   "execution_count": 37,
   "id": "ca497f5b-ac7a-447f-b2b2-f6449f7b82c2",
   "metadata": {
    "executionCancelledAt": null,
    "executionTime": 3801,
    "lastExecutedAt": 1757927479704,
    "lastExecutedByKernel": "b89e63d4-d78f-492c-bb7c-79b512df6680",
    "lastScheduledRunId": null,
    "lastSuccessfullyExecutedCode": "# 3. Evaluate feature performance\n\nfeatures_dict = {}  # Create a dictionary to store each features predictive performance\n\n\n# Create a dictionary to store the model performance for each feature\nfeature_performance = {}\n\nfor feature in [\"N\", \"P\", \"K\", \"ph\"]: # Loop through the features\n    log_reg = LogisticRegression(multi_class=\"multinomial\")  # Predicting target values using the test set\n    log_reg.fit(X_train[[feature]], y_train)\n    y_pred =log_reg.predict(X_test[[feature]])\n    \n    # Calculate F1 score, the harmonic mean of precision and recall\n    # Could also use balanced_accuracy_score\n    f1 = metrics.f1_score(y_test, y_pred, average=\"weighted\")\n\n    feature_performance[feature] = f1\n\nprint(f\"F1-score for {feature}: {feature_performance}\")\n\n# print(metrics.balanced_accuracy_score(y_test, y_pred))\n\n",
    "outputsMetadata": {
     "0": {
      "height": 38,
      "type": "stream"
     }
    }
   },
   "outputs": [
    {
     "name": "stdout",
     "output_type": "stream",
     "text": [
      "F1-score for ph: {'N': 0.09149868209906838, 'P': 0.14761942909728204, 'K': 0.23896974566001802, 'ph': 0.04532731061152114}\n"
     ]
    }
   ],
   "source": [
    "# 3. Evaluate feature performance\n",
    "\n",
    "features_dict = {}  # Create a dictionary to store each features predictive performance\n",
    "\n",
    "\n",
    "# Create a dictionary to store the model performance for each feature\n",
    "feature_performance = {}\n",
    "\n",
    "for feature in [\"N\", \"P\", \"K\", \"ph\"]: # Loop through the features\n",
    "    log_reg = LogisticRegression(multi_class=\"multinomial\")  # Predicting target values using the test set\n",
    "    log_reg.fit(X_train[[feature]], y_train)\n",
    "    y_pred =log_reg.predict(X_test[[feature]])\n",
    "    \n",
    "    # Calculate F1 score, the harmonic mean of precision and recall\n",
    "    # Could also use balanced_accuracy_score\n",
    "    f1 = metrics.f1_score(y_test, y_pred, average=\"weighted\")\n",
    "\n",
    "    feature_performance[feature] = f1\n",
    "\n",
    "print(f\"F1-score for {feature}: {feature_performance}\")\n",
    "\n",
    "# print(metrics.balanced_accuracy_score(y_test, y_pred))\n",
    "\n"
   ]
  },
  {
   "cell_type": "code",
   "execution_count": 38,
   "id": "35ce5d17-7a7a-4ba7-808e-cd2b4ac4d379",
   "metadata": {
    "executionCancelledAt": null,
    "executionTime": 51,
    "lastExecutedAt": 1757927479755,
    "lastExecutedByKernel": "b89e63d4-d78f-492c-bb7c-79b512df6680",
    "lastScheduledRunId": null,
    "lastSuccessfullyExecutedCode": "# 4. Create the best_predictive_feature variable\n\nbest_predictive_feature = {\"K\": feature_performance[\"K\"]}\nbest_predictive_feature"
   },
   "outputs": [
    {
     "data": {
      "text/plain": [
       "{'K': 0.23896974566001802}"
      ]
     },
     "execution_count": 38,
     "metadata": {},
     "output_type": "execute_result"
    }
   ],
   "source": [
    "# 4. Create the best_predictive_feature variable\n",
    "\n",
    "best_predictive_feature = {\"K\": feature_performance[\"K\"]}\n",
    "best_predictive_feature"
   ]
  },
  {
   "cell_type": "markdown",
   "id": "dde57aae",
   "metadata": {},
   "source": [
    "How to approach the project\n",
    "1. Read the data into a pandas DataFrame and perform exploratory data analysis\n",
    "\n",
    "2. Split the data\n",
    "\n",
    "3. Evaluate feature performance\n",
    "\n",
    "4. Create the best_predictive_feature variable\n",
    "\n",
    "Steps to complete\n",
    "\n",
    "1\n",
    "Read the data into a pandas DataFrame and perform exploratory data analysis\n",
    "Read in the \"soil_measures.csv\" file as pandas DataFrame.\n",
    "\n",
    "\n",
    "Read in a csv file\n",
    "You can use pd.read_csv() to read in a csv file.\n",
    "\n",
    "\n",
    "Check for missing values\n",
    "You can chain the pandas DataFrame methods isna().sum() to count the number of null values in each column, helping you decide whether you need to drop or impute missing values.\n",
    "\n",
    "\n",
    "Check for crop types\n",
    "To confirm if \"crop\" is a binary or multi-label feature you can use the pandas Series .unique() method to display all unique values in that column.\n",
    "\n",
    "\n",
    "2\n",
    "Split the data\n",
    "Create training and test sets using all features.\n",
    "\n",
    "\n",
    "Features and target variables\n",
    "Create a variable containing the features, all columns except \"crop\", and another variable containing only the \"crop\".\n",
    "\n",
    "\n",
    "\n",
    "Use train_test_split()\n",
    "You can unpack the results of train_test_split() into four variables: X_train, X_test, y_train, and y_test.\n",
    "\n",
    "\n",
    "\n",
    "3\n",
    "Evaluate feature performance\n",
    "Predict the crop using each feature individually. You should build a model for each feature. That means you will build four models.\n",
    "\n",
    "\n",
    "Create a dictionary to store each features predictive performance\n",
    "Create an empty dictionary, e.g., features_dict = {}.\n",
    "\n",
    "\n",
    "Loop through the features\n",
    "You can train and evaluate the performance of each feature by looping through them using the syntax for feature in [\"N\", \"P\", \"K\", \"ph\"]:.\n",
    "\n",
    "\n",
    "Training a multi-class classifier algorithm\n",
    "Inside of the for loop iterating over a list of features, you can call LogisticRegression() to create your model, assigning to the variable log_reg.\n",
    "You should set the multi_class argument to \"multinomial\" so that multi-class prediction is supported.\n",
    "Fit the model to the feature in X_train by subsetting it using double square brackets e.g., log_reg.fit(X_train[[feature]], y_train).\n",
    "\n",
    "\n",
    "Predicting target values using the test set\n",
    "You can use the model's .predict() method, subsetting the feature from X_test, to predict target values.\n",
    "Convention is to store the results as a variable called y_pred.\n",
    "\n",
    "\n",
    "Evaluating the performance of each feature\n",
    "You can calculate F1 score, which is the harmonic mean of precision and recall, to evaluate feature performance.\n",
    "Alternatively, you can use metrics.balanced_accuracy_score().\n",
    "Scikit-learn's metrics.f1_score() function takes the target values, y_test, and the predicted values, y_pred, in order to calculate the F1 score.\n",
    "Set the f1_score()'s keyword argument average equal to \"weighted\" when calculating performance for each feature.\n",
    "Assign the results of f1_score() to a variable called feature_performance.\n",
    "If you created an empty dictionary called feature_performance outside of a for loop where you built your models, you can add the feature-performance key-value pairs to the dictionary using the syntax feature_performance[feature] = feature_importance.\n",
    "You can use a print() statement with an f-string to output the feature and the performance, for example, print(f\"F1-score for {feature}: {feature_performance}\").\n",
    "\n",
    "\n",
    "4\n",
    "Create the best_predictive_feature variable\n",
    "Store the feature name as a key and the respective model's evaluation score as the value.\n",
    "\n",
    "\n",
    "Saving the information\n",
    "Create a variable called best_predictive_feature.\n",
    "It should contain a single key-value pair.\n",
    "The key should be a string representing the name of the feature that produced the best model performance.\n",
    "The value should be the model's evaluation metric score."
   ]
  },
  {
   "cell_type": "code",
   "execution_count": null,
   "id": "3fdacd8b",
   "metadata": {},
   "outputs": [],
   "source": [
    "###### Solution ######\n",
    "\n",
    "# All required libraries are imported here for you.\n",
    "import pandas as pd\n",
    "from sklearn.linear_model import LogisticRegression\n",
    "from sklearn.model_selection import train_test_split\n",
    "from sklearn import metrics\n",
    "\n",
    "# Load the dataset\n",
    "crops = pd.read_csv(\"soil_measures.csv\")\n",
    "\n",
    "# Check for missing values\n",
    "crops.isna().sum()\n",
    "\n",
    "# Check how many crops we have, i.e., multi-class target\n",
    "crops.crop.unique()\n",
    "\n",
    "# Split into feature and target sets\n",
    "X = crops.drop(columns=\"crop\")\n",
    "y = crops[\"crop\"]\n",
    "\n",
    "# Split the data into training and testing sets\n",
    "X_train, X_test, y_train, y_test = train_test_split(\n",
    "    X,\n",
    "    y,\n",
    "    test_size=0.2,\n",
    "    random_state=42\n",
    ")\n",
    "\n",
    "# Create a dictionary to store the model performance for each feature\n",
    "feature_performance = {}\n",
    "\n",
    "# Train a logistic regression model for each feature\n",
    "for feature in [\"N\", \"P\", \"K\", \"ph\"]:\n",
    "    log_reg = LogisticRegression(multi_class=\"multinomial\")\n",
    "    log_reg.fit(X_train[[feature]], y_train)\n",
    "    y_pred = log_reg.predict(X_test[[feature]])\n",
    "    \n",
    "    # Calculate F1 score, the harmonic mean of precision and recall\n",
    "    # Could also use balanced_accuracy_score\n",
    "    f1 = metrics.f1_score(y_test, y_pred, average=\"weighted\")\n",
    "    \n",
    "    # Add feature-f1 score pairs to the dictionary\n",
    "    feature_performance[feature] = f1\n",
    "    print(f\"F1-score for {feature}: {f1}\")\n",
    "\n",
    "# K produced the best F1 score\n",
    "# Store in best_predictive_feature dictionary\n",
    "best_predictive_feature = {\"K\": feature_performance[\"K\"]}\n",
    "best_predictive_feature"
   ]
  }
 ],
 "metadata": {
  "colab": {
   "name": "Welcome to DataCamp Workspaces.ipynb",
   "provenance": []
  },
  "kernelspec": {
   "display_name": "Python 3 (ipykernel)",
   "language": "python",
   "name": "python3"
  },
  "language_info": {
   "codemirror_mode": {
    "name": "ipython",
    "version": 3
   },
   "file_extension": ".py",
   "mimetype": "text/x-python",
   "name": "python",
   "nbconvert_exporter": "python",
   "pygments_lexer": "ipython3",
   "version": "3.8.10"
  }
 },
 "nbformat": 4,
 "nbformat_minor": 5
}
